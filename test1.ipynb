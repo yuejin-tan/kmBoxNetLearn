{
 "cells": [
  {
   "cell_type": "code",
   "execution_count": null,
   "metadata": {},
   "outputs": [],
   "source": [
    "# 运行配置\n",
    "ip = '192.168.2.188'\n",
    "# ip = '127.0.0.1'\n",
    "port = 32770\n",
    "mac = 0xC7FF3CAB\n",
    "# mac = 0x8147e04e\n",
    "\n",
    "# 开启事件循环\n",
    "%gui qt5\n",
    "%matplotlib qt5\n",
    "\n",
    "# 初始化库\n",
    "%run -i cs2GG.py\n"
   ]
  },
  {
   "cell_type": "code",
   "execution_count": null,
   "metadata": {},
   "outputs": [],
   "source": [
    "# 初始化库\n",
    "%run -i cs2GG2.py"
   ]
  },
  {
   "cell_type": "code",
   "execution_count": null,
   "metadata": {},
   "outputs": [],
   "source": [
    "isLearning = True\n",
    "moniStop = False\n",
    "kmbox1.do_run()"
   ]
  },
  {
   "cell_type": "code",
   "execution_count": null,
   "metadata": {},
   "outputs": [],
   "source": [
    "isLearning = False\n",
    "moniStop = False\n",
    "kmbox1.do_run()"
   ]
  },
  {
   "cell_type": "code",
   "execution_count": 33,
   "metadata": {},
   "outputs": [],
   "source": [
    "kmbox1.guns=Guns.AK"
   ]
  },
  {
   "cell_type": "code",
   "execution_count": null,
   "metadata": {},
   "outputs": [],
   "source": [
    "kmbox1.guns=Guns.A4"
   ]
  },
  {
   "cell_type": "code",
   "execution_count": null,
   "metadata": {},
   "outputs": [],
   "source": [
    "kmbox1.guns=Guns.A1"
   ]
  },
  {
   "cell_type": "code",
   "execution_count": null,
   "metadata": {},
   "outputs": [],
   "source": [
    "gunRecord[Guns.AK.value]"
   ]
  },
  {
   "cell_type": "markdown",
   "metadata": {},
   "source": [
    "# 读"
   ]
  },
  {
   "cell_type": "code",
   "execution_count": null,
   "metadata": {},
   "outputs": [],
   "source": [
    "import pickle\n",
    "\n",
    "with open(\"ak.pkl\", \"rb\") as f:\n",
    "    gunRecord[Guns.AK.value] = pickle.load(f)"
   ]
  },
  {
   "cell_type": "code",
   "execution_count": null,
   "metadata": {},
   "outputs": [],
   "source": [
    "import pickle\n",
    "\n",
    "with open(\"a4.pkl\", \"rb\") as f:\n",
    "    gunRecord[Guns.A4.value] = pickle.load(f)"
   ]
  },
  {
   "cell_type": "code",
   "execution_count": null,
   "metadata": {},
   "outputs": [],
   "source": [
    "import pickle\n",
    "\n",
    "with open(\"a1.pkl\", \"rb\") as f:\n",
    "    gunRecord[Guns.A1.value] = pickle.load(f)"
   ]
  },
  {
   "cell_type": "markdown",
   "metadata": {},
   "source": [
    "# 写"
   ]
  },
  {
   "cell_type": "code",
   "execution_count": null,
   "metadata": {},
   "outputs": [],
   "source": [
    "import pickle\n",
    "\n",
    "with open(\"ak.pkl\", \"wb\") as f:\n",
    "    pickle.dump(gunRecord[Guns.AK.value], f)"
   ]
  },
  {
   "cell_type": "code",
   "execution_count": null,
   "metadata": {},
   "outputs": [],
   "source": [
    "import pickle\n",
    "\n",
    "with open(\"a4.pkl\", \"wb\") as f:\n",
    "    pickle.dump(gunRecord[Guns.A4.value], f)"
   ]
  },
  {
   "cell_type": "code",
   "execution_count": 31,
   "metadata": {},
   "outputs": [],
   "source": [
    "import pickle\n",
    "\n",
    "with open(\"a1.pkl\", \"wb\") as f:\n",
    "    pickle.dump(gunRecord[Guns.A1.value], f)"
   ]
  }
 ],
 "metadata": {
  "kernelspec": {
   "display_name": "cheat",
   "language": "python",
   "name": "python3"
  },
  "language_info": {
   "codemirror_mode": {
    "name": "ipython",
    "version": 3
   },
   "file_extension": ".py",
   "mimetype": "text/x-python",
   "name": "python",
   "nbconvert_exporter": "python",
   "pygments_lexer": "ipython3",
   "version": "3.11.11"
  }
 },
 "nbformat": 4,
 "nbformat_minor": 2
}
