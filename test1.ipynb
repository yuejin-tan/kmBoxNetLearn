{
 "cells": [
  {
   "cell_type": "code",
   "execution_count": null,
   "metadata": {},
   "outputs": [],
   "source": [
    "# 运行配置\n",
    "ip = '192.168.2.188'\n",
    "# ip = '127.0.0.1'\n",
    "port = 32770\n",
    "mac = 0xC7FF3CAB\n",
    "# mac = 0x8147e04e\n",
    "\n",
    "# 开启事件循环\n",
    "%gui qt5\n",
    "%matplotlib qt5\n",
    "\n",
    "# 初始化库\n",
    "%run -i cs2GG.py\n"
   ]
  },
  {
   "cell_type": "code",
   "execution_count": null,
   "metadata": {},
   "outputs": [],
   "source": [
    "# 运行配置\n",
    "ip = '192.168.2.188'\n",
    "# ip = '127.0.0.1'\n",
    "port = 32770\n",
    "mac = 0xC7FF3CAB\n",
    "# mac = 0x8147e04e\n",
    "\n",
    "# 初始化库\n",
    "%run -i cs2GG2.py"
   ]
  },
  {
   "cell_type": "code",
   "execution_count": null,
   "metadata": {},
   "outputs": [],
   "source": [
    "for i in range(20):\n",
    "    kmbox1.mouseMove(10,10)\n",
    "    time.sleep(0.05)"
   ]
  },
  {
   "cell_type": "code",
   "execution_count": null,
   "metadata": {},
   "outputs": [],
   "source": [
    "kmbox1.mouseCtrl(1,2,kmbox_para.MOUSE_RIGHT,0)\n",
    "kmbox1.mouseCtrl(1,2,0,0)"
   ]
  },
  {
   "cell_type": "code",
   "execution_count": null,
   "metadata": {},
   "outputs": [],
   "source": [
    "kmbox1.monitorCtrl(port+1)"
   ]
  },
  {
   "cell_type": "code",
   "execution_count": null,
   "metadata": {},
   "outputs": [],
   "source": [
    "kmbox1.monitorCtrl(0)"
   ]
  },
  {
   "cell_type": "code",
   "execution_count": null,
   "metadata": {},
   "outputs": [],
   "source": [
    "time.time()"
   ]
  }
 ],
 "metadata": {
  "kernelspec": {
   "display_name": "cheat",
   "language": "python",
   "name": "python3"
  },
  "language_info": {
   "codemirror_mode": {
    "name": "ipython",
    "version": 3
   },
   "file_extension": ".py",
   "mimetype": "text/x-python",
   "name": "python",
   "nbconvert_exporter": "python",
   "pygments_lexer": "ipython3",
   "version": "3.11.11"
  }
 },
 "nbformat": 4,
 "nbformat_minor": 2
}
