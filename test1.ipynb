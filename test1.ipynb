{
 "cells": [
  {
   "attachments": {},
   "cell_type": "markdown",
   "metadata": {},
   "source": [
    "# AK z | A4 x | A1 c | MAC10 v | MP9 b | PP n | GALI m "
   ]
  },
  {
   "cell_type": "code",
   "execution_count": null,
   "metadata": {},
   "outputs": [],
   "source": [
    "# 初始化库\n",
    "\n",
    "%run -i cs2GG2.py"
   ]
  },
  {
   "cell_type": "code",
   "execution_count": null,
   "metadata": {},
   "outputs": [],
   "source": [
    "isLearning = False\n",
    "moniStop = False\n",
    "kmbox1.do_run()"
   ]
  },
  {
   "cell_type": "code",
   "execution_count": null,
   "metadata": {},
   "outputs": [],
   "source": [
    "isLearning = True\n",
    "moniStop = False\n",
    "kmbox1.do_run()"
   ]
  },
  {
   "cell_type": "markdown",
   "metadata": {},
   "source": [
    "# save\n"
   ]
  },
  {
   "cell_type": "code",
   "execution_count": null,
   "metadata": {},
   "outputs": [],
   "source": [
    "with open(\"ak_2.pkl\", \"wb\") as f:\n",
    "    pickle.dump(gunRecord[Guns.AK.value], f)"
   ]
  },
  {
   "cell_type": "code",
   "execution_count": null,
   "metadata": {},
   "outputs": [],
   "source": [
    "with open(\"a4.pkl\", \"wb\") as f:\n",
    "    pickle.dump(gunRecord[Guns.A4.value], f)"
   ]
  },
  {
   "cell_type": "code",
   "execution_count": null,
   "metadata": {},
   "outputs": [],
   "source": [
    "with open(\"a1.pkl\", \"wb\") as f:\n",
    "    pickle.dump(gunRecord[Guns.A1.value], f)"
   ]
  },
  {
   "cell_type": "code",
   "execution_count": null,
   "metadata": {},
   "outputs": [],
   "source": [
    "with open(\"mac10.pkl\", \"wb\") as f:\n",
    "    pickle.dump(gunRecord[Guns.MAC10.value], f)"
   ]
  },
  {
   "cell_type": "code",
   "execution_count": null,
   "metadata": {},
   "outputs": [],
   "source": [
    "with open(\"mp9_2.pkl\", \"wb\") as f:\n",
    "    pickle.dump(gunRecord[Guns.MP9.value], f)"
   ]
  },
  {
   "cell_type": "code",
   "execution_count": null,
   "metadata": {},
   "outputs": [],
   "source": [
    "with open(\"pp.pkl\", \"wb\") as f:\n",
    "    pickle.dump(gunRecord[Guns.PP.value], f)"
   ]
  },
  {
   "cell_type": "code",
   "execution_count": null,
   "metadata": {},
   "outputs": [],
   "source": [
    "with open(\"gali.pkl\", \"wb\") as f:\n",
    "    pickle.dump(gunRecord[Guns.GALI.value], f)"
   ]
  },
  {
   "cell_type": "markdown",
   "metadata": {},
   "source": [
    "# backup"
   ]
  },
  {
   "cell_type": "code",
   "execution_count": null,
   "metadata": {},
   "outputs": [],
   "source": [
    "# 运行配置\n",
    "ip = '192.168.2.188'\n",
    "# ip = '127.0.0.1'\n",
    "port = 32770\n",
    "mac = 0xC7FF3CAB\n",
    "# mac = 0x8147e04e\n",
    "\n",
    "# 开启事件循环\n",
    "%gui qt5\n",
    "%matplotlib qt5\n",
    "\n",
    "# 初始化库\n",
    "%run -i cs2GG.py\n"
   ]
  },
  {
   "cell_type": "code",
   "execution_count": null,
   "metadata": {},
   "outputs": [],
   "source": [
    "gunRecord[Guns.AK.value]"
   ]
  }
 ],
 "metadata": {
  "kernelspec": {
   "display_name": "cheat",
   "language": "python",
   "name": "python3"
  },
  "language_info": {
   "codemirror_mode": {
    "name": "ipython",
    "version": 3
   },
   "file_extension": ".py",
   "mimetype": "text/x-python",
   "name": "python",
   "nbconvert_exporter": "python",
   "pygments_lexer": "ipython3",
   "version": "3.11.11"
  }
 },
 "nbformat": 4,
 "nbformat_minor": 2
}
